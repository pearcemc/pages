{
 "cells": [
  {
   "cell_type": "code",
   "execution_count": 1,
   "id": "3f9c0738",
   "metadata": {},
   "outputs": [],
   "source": [
    "import numpy as np"
   ]
  },
  {
   "cell_type": "code",
   "execution_count": 2,
   "id": "c2eb0da1",
   "metadata": {},
   "outputs": [],
   "source": [
    "def mul(a, b):\n",
    "  S = np.sign(a) == np.sign(b)\n",
    "  Z = np.logical_or(a==0, b==0)\n",
    "  a = np.where(Z, 1, a)\n",
    "  b = np.where(Z, 1, b)\n",
    "  P = np.log2(np.abs(a)) + np.log2(np.abs(b))  # could check for overflow here.\n",
    "  X = 2**P\n",
    "  Y = np.int32(np.ceil(X))\n",
    "  W = np.int32(np.floor(X))\n",
    "  R = X - Y\n",
    "  T = np.abs(R) < 0.5\n",
    "  U = np.sign(R) >= 0\n",
    "  small_and_positive = np.logical_and(T, U)\n",
    "  large_and_negative = np.logical_not(np.logical_or(T, U))\n",
    "  mag = np.where(np.logical_or(small_and_positive, large_and_negative), W, Y)\n",
    "  return np.where(Z, 0, np.where(S, mag, -mag))\n"
   ]
  },
  {
   "cell_type": "code",
   "execution_count": 3,
   "id": "f24cb77a",
   "metadata": {},
   "outputs": [
    {
     "data": {
      "text/plain": [
       "array([   28, 90000,   330], dtype=int32)"
      ]
     },
     "execution_count": 3,
     "metadata": {},
     "output_type": "execute_result"
    }
   ],
   "source": [
    "C = np.array([4, 10000, 33], dtype=np.int32)\n",
    "D = np.array([7, 9, 10], dtype=np.int32)\n",
    "mul(C, D)"
   ]
  },
  {
   "cell_type": "code",
   "execution_count": 4,
   "id": "a441cd3e",
   "metadata": {},
   "outputs": [],
   "source": [
    "def errs(M):\n",
    "  A = N(M)\n",
    "  B = N(M)\n",
    "  return np.sum(np.abs(A*B - mul(A, B)))"
   ]
  },
  {
   "cell_type": "code",
   "execution_count": 5,
   "id": "84338923",
   "metadata": {},
   "outputs": [],
   "source": [
    "N = lambda N: np.random.randint(-(2**14), 2**14, N, dtype=np.int32)\n",
    "A = N(10000)\n",
    "B = N(10000)"
   ]
  },
  {
   "cell_type": "code",
   "execution_count": 6,
   "id": "fc66da69",
   "metadata": {},
   "outputs": [
    {
     "data": {
      "text/plain": [
       "0"
      ]
     },
     "execution_count": 6,
     "metadata": {},
     "output_type": "execute_result"
    }
   ],
   "source": [
    "errs(100000000)"
   ]
  }
 ],
 "metadata": {
  "kernelspec": {
   "display_name": "Python 3",
   "language": "python",
   "name": "python3"
  },
  "language_info": {
   "codemirror_mode": {
    "name": "ipython",
    "version": 3
   },
   "file_extension": ".py",
   "mimetype": "text/x-python",
   "name": "python",
   "nbconvert_exporter": "python",
   "pygments_lexer": "ipython3",
   "version": "3.8.10"
  }
 },
 "nbformat": 4,
 "nbformat_minor": 5
}
